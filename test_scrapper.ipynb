{
 "cells": [
  {
   "cell_type": "code",
   "execution_count": 181,
   "metadata": {},
   "outputs": [],
   "source": [
    "from bs4 import BeautifulSoup\n",
    "import requests\n",
    "import urllib.request\n",
    "import time\n",
    "import itertools\n",
    "import pandas as pd\n",
    "import random\n"
   ]
  },
  {
   "cell_type": "code",
   "execution_count": 44,
   "metadata": {},
   "outputs": [],
   "source": [
    "def search_by(transaction_type, location, property_type, radius = 0, price_min = '', price_max = '',min_beds = '',max_beds = '',surface_min = '', surface_max = ''):\n",
    "    '''\n",
    "    function for set the filters applied\n",
    "    '''\n",
    "    wortimmo = str(\"https://www.wortimmo.lu/en/search?property_search_engine%5BtransactionType%5D=\"+transaction_type\n",
    "    +\"&property_search_engine%5Blocation%5D=\"+location\n",
    "    +\"&property_search_engine%5Bradius%5D=\"+str(radius)\n",
    "    +\"&property_search_engine%5BpropertyTypes%5D%5B%5D=\"+str(property_type)\n",
    "    +\"&property_search_engine%5BpurchasePriceMin%5D=\"+str(price_min)\n",
    "    +\"&property_search_engine%5BpurchasePriceMax%5D=\"+str(price_max)\n",
    "    +\"&property_search_engine%5BbedroomMin%5D=\"+str(min_beds)\n",
    "    +\"&property_search_engine%5BbedroomMax%5D=\"+str(max_beds)\n",
    "    +\"&property_search_engine%5BsurfaceMin%5D=\"+str(surface_min)\n",
    "    +\"&property_search_engine%5BsurfaceMax%5D=\"+str(surface_max)\n",
    "    +\"&property_search_engine%5Bsubmit%5D=&sort_by=newest_date\")\n",
    "    return wortimmo\n",
    "            "
   ]
  },
  {
   "cell_type": "code",
   "execution_count": 45,
   "metadata": {
    "scrolled": false
   },
   "outputs": [
    {
     "data": {
      "text/plain": [
       "'https://www.wortimmo.lu/en/search?property_search_engine%5BtransactionType%5D=vente&property_search_engine%5Blocation%5D=country-1&property_search_engine%5Bradius%5D=0&property_search_engine%5BpropertyTypes%5D%5B%5D=0&property_search_engine%5BpurchasePriceMin%5D=&property_search_engine%5BpurchasePriceMax%5D=&property_search_engine%5BbedroomMin%5D=&property_search_engine%5BbedroomMax%5D=&property_search_engine%5BsurfaceMin%5D=&property_search_engine%5BsurfaceMax%5D=&property_search_engine%5Bsubmit%5D=&sort_by=newest_date'"
      ]
     },
     "execution_count": 45,
     "metadata": {},
     "output_type": "execute_result"
    }
   ],
   "source": [
    "search_by(transaction_type='vente', location='country-1', property_type=0)"
   ]
  },
  {
   "cell_type": "code",
   "execution_count": 170,
   "metadata": {},
   "outputs": [],
   "source": [
    "headers = ({'User-Agent':\n",
    "            'Mozilla/5.0 (Windows NT 6.1) AppleWebKit/537.36 (KHTML, like Gecko) Chrome/41.0.2228.0 Safari/537.36'})\n",
    "\n",
    "wortimmo = search_by(transaction_type='vente', location='country-1', property_type=0, min_beds=2)\n",
    "response = requests.get(wortimmo, headers=headers)\n",
    "html_page = BeautifulSoup(response.text, 'html.parser')\n",
    "\n"
   ]
  },
  {
   "cell_type": "code",
   "execution_count": 230,
   "metadata": {},
   "outputs": [
    {
     "name": "stdout",
     "output_type": "stream",
     "text": [
      "AFIL IMMO S.A.\n"
     ]
    }
   ],
   "source": [
    "house_containers = html_page.find_all('div', class_=\"c-organism c-property-result-block\")\n",
    "len(house_containers)\n",
    "a=0\n",
    "for container in house_containers[0:5]:\n",
    "    description = container.find_all(class_=\"agency\")[0]\n",
    "    a = description.a['title']\n",
    "print(a)"
   ]
  },
  {
   "cell_type": "code",
   "execution_count": 165,
   "metadata": {
    "scrolled": true
   },
   "outputs": [
    {
     "ename": "ModuleNotFoundError",
     "evalue": "No module named 'urllib2'",
     "output_type": "error",
     "traceback": [
      "\u001b[1;31m---------------------------------------------------------------------------\u001b[0m",
      "\u001b[1;31mModuleNotFoundError\u001b[0m                       Traceback (most recent call last)",
      "\u001b[1;32m<ipython-input-165-44a740dc5b10>\u001b[0m in \u001b[0;36m<module>\u001b[1;34m()\u001b[0m\n\u001b[0;32m      6\u001b[0m \u001b[0murl\u001b[0m \u001b[1;33m=\u001b[0m \u001b[0mimg\u001b[0m\u001b[1;33m[\u001b[0m\u001b[1;34m'big-src'\u001b[0m\u001b[1;33m]\u001b[0m\u001b[1;33m\u001b[0m\u001b[0m\n\u001b[0;32m      7\u001b[0m \u001b[0mresponse\u001b[0m \u001b[1;33m=\u001b[0m \u001b[0mrequests\u001b[0m\u001b[1;33m.\u001b[0m\u001b[0mget\u001b[0m\u001b[1;33m(\u001b[0m\u001b[0murl\u001b[0m\u001b[1;33m)\u001b[0m\u001b[1;33m\u001b[0m\u001b[0m\n\u001b[1;32m----> 8\u001b[1;33m \u001b[1;32mimport\u001b[0m \u001b[0murllib2\u001b[0m\u001b[1;33m\u001b[0m\u001b[0m\n\u001b[0m\u001b[0;32m      9\u001b[0m \u001b[1;33m\u001b[0m\u001b[0m\n\u001b[0;32m     10\u001b[0m \u001b[0mim\u001b[0m \u001b[1;33m=\u001b[0m \u001b[0mImage\u001b[0m\u001b[1;33m.\u001b[0m\u001b[0mopen\u001b[0m\u001b[1;33m(\u001b[0m\u001b[0murllib2\u001b[0m\u001b[1;33m.\u001b[0m\u001b[0murlopen\u001b[0m\u001b[1;33m(\u001b[0m\u001b[0murl\u001b[0m\u001b[1;33m)\u001b[0m\u001b[1;33m)\u001b[0m\u001b[1;33m\u001b[0m\u001b[0m\n",
      "\u001b[1;31mModuleNotFoundError\u001b[0m: No module named 'urllib2'"
     ]
    }
   ],
   "source": [
    "from PIL import Image\n",
    "from io import StringIO ## for Python 3\n",
    "\n",
    "\n",
    "\n",
    "url = img['big-src']\n",
    "response = requests.get(url)\n",
    "import urllib2\n",
    "\n",
    "im = Image.open(urllib2.urlopen(url))"
   ]
  },
  {
   "cell_type": "code",
   "execution_count": 235,
   "metadata": {},
   "outputs": [],
   "source": [
    "def get_data(html_page,num):\n",
    "\n",
    "    # setting up the lists that will form our dataframe with all the results\n",
    "    descriptions = []\n",
    "    prices = []\n",
    "    areas = []\n",
    "    places = []\n",
    "    rooms = []\n",
    "    parkings = []\n",
    "    agencies = []\n",
    "    urls = []\n",
    "\n",
    "    house_containers = html_page.find_all('div', class_=\"c-organism c-property-result-block\")\n",
    "\n",
    "    if house_containers != []:\n",
    "        for container in house_containers[0:num]: \n",
    "            # Description\n",
    "            description = container.find_all(class_=\"c-title\")[0].text\n",
    "            description = description.replace(\"\\n    \",\"\")\n",
    "            descriptions.append(description)\n",
    "\n",
    "            # Price          \n",
    "            price = container.find_all('div', class_=\"c-price c-text c-text__price\")[0].text\n",
    "            price = price.replace(\"\\n    \",\"\")\n",
    "            price = price.replace(\"\\n\",\"\")\n",
    "            currency = price[-1]\n",
    "            price = float(price.replace(\" \",\"\")[:-1])\n",
    "            prices.append(price)\n",
    "\n",
    "            # Area\n",
    "            area = container.find_all('span')[4].text\n",
    "            area = area.replace(\"\\n                \",\"\")\n",
    "            area = area.replace(\"\\n            \",\"\")\n",
    "            measure = area[-2:]\n",
    "            area = \"\".join(itertools.takewhile(str.isdigit, area))\n",
    "            areas.append(area)            \n",
    "\n",
    "            # Rooms\n",
    "            num_hab = container.find_all('span')[5].text   \n",
    "            num_hab = num_hab.replace(\"\\n                \",\"\")\n",
    "            num_hab = \"\".join(itertools.takewhile(str.isdigit, num_hab))\n",
    "            rooms.append(num_hab)\n",
    "\n",
    "            # place\n",
    "            place = description.split(\"in\",1)[1]\n",
    "            places.append(place)\n",
    "\n",
    "            # Parking\n",
    "            num_parking = container.find_all('span')[6].text\n",
    "            num_parking = num_parking.replace(\"\\n                \",\"\")\n",
    "            num_parking = num_parking.replace(\"\\n        \",\"\")\n",
    "            if num_parking == '-':\n",
    "                num_parking = 0\n",
    "            parkings.append(int(num_parking))\n",
    "            \n",
    "            # Agency\n",
    "            agency = container.find_all(class_=\"agency\")[0]\n",
    "            agency = agency.a['title']\n",
    "            agencies.append(agency)\n",
    "\n",
    "            # url\n",
    "            link = 'https://www.wortimmo.lu' + container.find_all('a')[0].get('href')\n",
    "            urls.append(link)\n",
    "\n",
    "            # image\n",
    "#             img = str(container.find_all('img')[0])\n",
    "#             img = img['big-src']\n",
    "#             thumbnails.append(img)\n",
    "\n",
    "            # Create dataframe\n",
    "        cols = ['Description', str('Price ('+currency+')'), str('Area ('+measure+')'), 'Num. Rooms', 'Zone', 'Num. Parkings', 'Agency', 'URL']\n",
    "\n",
    "        wortimmo_df = pd.DataFrame({'Description': descriptions,\n",
    "                                   str('Price ('+currency+')'): price,\n",
    "                                   str('Area ('+measure+')'): areas,\n",
    "                                   'Num. Rooms': rooms,\n",
    "                                   'Num. Parkings': parkings,\n",
    "                                   'Agency': agencies,\n",
    "                                   'Zone': places,\n",
    "                                   'URL': urls,\n",
    "                                  })[cols]\n",
    "        return wortimmo_df\n",
    "        print ('Dataframe created')\n",
    "    else:\n",
    "        return\"No results found\"            \n",
    "\n",
    "    \n",
    "    \n",
    "\n",
    "\n",
    "\n",
    "\n"
   ]
  },
  {
   "cell_type": "code",
   "execution_count": 236,
   "metadata": {},
   "outputs": [
    {
     "data": {
      "text/html": [
       "<div>\n",
       "<style scoped>\n",
       "    .dataframe tbody tr th:only-of-type {\n",
       "        vertical-align: middle;\n",
       "    }\n",
       "\n",
       "    .dataframe tbody tr th {\n",
       "        vertical-align: top;\n",
       "    }\n",
       "\n",
       "    .dataframe thead th {\n",
       "        text-align: right;\n",
       "    }\n",
       "</style>\n",
       "<table border=\"1\" class=\"dataframe\">\n",
       "  <thead>\n",
       "    <tr style=\"text-align: right;\">\n",
       "      <th></th>\n",
       "      <th>Description</th>\n",
       "      <th>Price (€)</th>\n",
       "      <th>Area (m²)</th>\n",
       "      <th>Num. Rooms</th>\n",
       "      <th>Zone</th>\n",
       "      <th>Num. Parkings</th>\n",
       "      <th>Agency</th>\n",
       "      <th>URL</th>\n",
       "    </tr>\n",
       "  </thead>\n",
       "  <tbody>\n",
       "    <tr>\n",
       "      <th>0</th>\n",
       "      <td>Apartment with 2 bedroom(s) to sell in Bridel</td>\n",
       "      <td>480000.0</td>\n",
       "      <td>90</td>\n",
       "      <td>2</td>\n",
       "      <td>Bridel</td>\n",
       "      <td>0</td>\n",
       "      <td>New Keys Sàrl</td>\n",
       "      <td>https://www.wortimmo.lu/en/buy/apartment/ouest...</td>\n",
       "    </tr>\n",
       "    <tr>\n",
       "      <th>1</th>\n",
       "      <td>Apartment with 2 bedroom(s) to sell in Dondelange</td>\n",
       "      <td>480000.0</td>\n",
       "      <td>130</td>\n",
       "      <td>2</td>\n",
       "      <td>Dondelange</td>\n",
       "      <td>0</td>\n",
       "      <td>New Keys Sàrl</td>\n",
       "      <td>https://www.wortimmo.lu/en/buy/apartment/ouest...</td>\n",
       "    </tr>\n",
       "    <tr>\n",
       "      <th>2</th>\n",
       "      <td>Apartment with 2 bedroom(s) to sell in Itzig</td>\n",
       "      <td>480000.0</td>\n",
       "      <td>68</td>\n",
       "      <td>2</td>\n",
       "      <td>Itzig</td>\n",
       "      <td>1</td>\n",
       "      <td>New Keys Sàrl</td>\n",
       "      <td>https://www.wortimmo.lu/en/buy/apartment/centr...</td>\n",
       "    </tr>\n",
       "    <tr>\n",
       "      <th>3</th>\n",
       "      <td>Apartment with 2 bedroom(s) to sell in Luxembo...</td>\n",
       "      <td>480000.0</td>\n",
       "      <td>83</td>\n",
       "      <td>2</td>\n",
       "      <td>Luxembourg-Kirchberg</td>\n",
       "      <td>0</td>\n",
       "      <td>New Keys Sàrl</td>\n",
       "      <td>https://www.wortimmo.lu/en/buy/apartment/centr...</td>\n",
       "    </tr>\n",
       "    <tr>\n",
       "      <th>4</th>\n",
       "      <td>Apartment with 2 bedroom(s) to sell in Niederkorn</td>\n",
       "      <td>480000.0</td>\n",
       "      <td>70</td>\n",
       "      <td>2</td>\n",
       "      <td>Niederkorn</td>\n",
       "      <td>2</td>\n",
       "      <td>AFIL IMMO S.A.</td>\n",
       "      <td>https://www.wortimmo.lu/en/buy/apartment/sud/n...</td>\n",
       "    </tr>\n",
       "  </tbody>\n",
       "</table>\n",
       "</div>"
      ],
      "text/plain": [
       "                                         Description  Price (€) Area (m²)  \\\n",
       "0      Apartment with 2 bedroom(s) to sell in Bridel   480000.0        90   \n",
       "1  Apartment with 2 bedroom(s) to sell in Dondelange   480000.0       130   \n",
       "2       Apartment with 2 bedroom(s) to sell in Itzig   480000.0        68   \n",
       "3  Apartment with 2 bedroom(s) to sell in Luxembo...   480000.0        83   \n",
       "4  Apartment with 2 bedroom(s) to sell in Niederkorn   480000.0        70   \n",
       "\n",
       "  Num. Rooms                   Zone  Num. Parkings          Agency  \\\n",
       "0          2                 Bridel              0   New Keys Sàrl   \n",
       "1          2             Dondelange              0   New Keys Sàrl   \n",
       "2          2                  Itzig              1   New Keys Sàrl   \n",
       "3          2   Luxembourg-Kirchberg              0   New Keys Sàrl   \n",
       "4          2             Niederkorn              2  AFIL IMMO S.A.   \n",
       "\n",
       "                                                 URL  \n",
       "0  https://www.wortimmo.lu/en/buy/apartment/ouest...  \n",
       "1  https://www.wortimmo.lu/en/buy/apartment/ouest...  \n",
       "2  https://www.wortimmo.lu/en/buy/apartment/centr...  \n",
       "3  https://www.wortimmo.lu/en/buy/apartment/centr...  \n",
       "4  https://www.wortimmo.lu/en/buy/apartment/sud/n...  "
      ]
     },
     "execution_count": 236,
     "metadata": {},
     "output_type": "execute_result"
    }
   ],
   "source": [
    "get_data(html_page,5)\n"
   ]
  },
  {
   "cell_type": "code",
   "execution_count": null,
   "metadata": {},
   "outputs": [],
   "source": []
  }
 ],
 "metadata": {
  "kernelspec": {
   "display_name": "Python 3",
   "language": "python",
   "name": "python3"
  },
  "language_info": {
   "codemirror_mode": {
    "name": "ipython",
    "version": 3
   },
   "file_extension": ".py",
   "mimetype": "text/x-python",
   "name": "python",
   "nbconvert_exporter": "python",
   "pygments_lexer": "ipython3",
   "version": "3.6.4"
  }
 },
 "nbformat": 4,
 "nbformat_minor": 2
}
